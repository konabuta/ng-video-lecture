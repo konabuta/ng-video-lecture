{
 "cells": [
  {
   "cell_type": "code",
   "execution_count": 3,
   "metadata": {},
   "outputs": [
    {
     "name": "stdout",
     "output_type": "stream",
     "text": [
      "--2023-10-06 07:30:49--  https://raw.githubusercontent.com/karpathy/char-rnn/master/data/tinyshakespeare/input.txt\n",
      "Resolving raw.githubusercontent.com (raw.githubusercontent.com)... 185.199.110.133, 185.199.111.133, 185.199.108.133, ...\n",
      "Connecting to raw.githubusercontent.com (raw.githubusercontent.com)|185.199.110.133|:443... connected.\n",
      "HTTP request sent, awaiting response... 200 OK\n",
      "Length: 1115394 (1.1M) [text/plain]\n",
      "Saving to: ‘input.txt.1’\n",
      "\n",
      "input.txt.1         100%[===================>]   1.06M  --.-KB/s    in 0.02s   \n",
      "\n",
      "2023-10-06 07:30:50 (58.1 MB/s) - ‘input.txt.1’ saved [1115394/1115394]\n",
      "\n"
     ]
    }
   ],
   "source": [
    "!wget https://raw.githubusercontent.com/karpathy/char-rnn/master/data/tinyshakespeare/input.txt"
   ]
  },
  {
   "cell_type": "code",
   "execution_count": 4,
   "metadata": {},
   "outputs": [],
   "source": [
    "with open('input.txt', 'r', encoding='utf-8') as f:\n",
    "    text = f.read()"
   ]
  },
  {
   "cell_type": "code",
   "execution_count": 5,
   "metadata": {},
   "outputs": [
    {
     "name": "stdout",
     "output_type": "stream",
     "text": [
      "length of dataset in characters:  1115394\n"
     ]
    }
   ],
   "source": [
    "print(\"length of dataset in characters: \", len(text))"
   ]
  },
  {
   "cell_type": "code",
   "execution_count": 6,
   "metadata": {},
   "outputs": [
    {
     "name": "stdout",
     "output_type": "stream",
     "text": [
      "First Citizen:\n",
      "Before we proceed any further, hear me speak.\n",
      "\n",
      "All:\n",
      "Speak, speak.\n",
      "\n",
      "First Citizen:\n",
      "You are all resolved rather to die than to famish?\n",
      "\n",
      "All:\n",
      "Resolved. resolved.\n",
      "\n",
      "First Citizen:\n",
      "First, you know Caius Marcius is chief enemy to the people.\n",
      "\n",
      "All:\n",
      "We know't, we know't.\n",
      "\n",
      "First Citizen:\n",
      "Let us kill him, and we'll have corn at our own price.\n",
      "Is't a verdict?\n",
      "\n",
      "All:\n",
      "No more talking on't; let it be done: away, away!\n",
      "\n",
      "Second Citizen:\n",
      "One word, good citizens.\n",
      "\n",
      "First Citizen:\n",
      "We are accounted poor citizens, the patricians good.\n",
      "What authority surfeits on would relieve us: if they\n",
      "would yield us but the superfluity, while it were\n",
      "wholesome, we might guess they relieved us humanely;\n",
      "but they think we are too dear: the leanness that\n",
      "afflicts us, the object of our misery, is as an\n",
      "inventory to particularise their abundance; our\n",
      "sufferance is a gain to them Let us revenge this with\n",
      "our pikes, ere we become rakes: for the gods know I\n",
      "speak this in hunger for bread, not in thirst for revenge.\n",
      "\n",
      "\n"
     ]
    }
   ],
   "source": [
    "print(text[:1000])"
   ]
  },
  {
   "cell_type": "code",
   "execution_count": 7,
   "metadata": {},
   "outputs": [
    {
     "name": "stdout",
     "output_type": "stream",
     "text": [
      "\n",
      " !$&',-.3:;?ABCDEFGHIJKLMNOPQRSTUVWXYZabcdefghijklmnopqrstuvwxyz\n",
      "65\n"
     ]
    }
   ],
   "source": [
    "chars = sorted(list(set(text)))\n",
    "vocab_size = len(chars)\n",
    "print(''.join(chars))\n",
    "print(vocab_size)"
   ]
  },
  {
   "cell_type": "code",
   "execution_count": 9,
   "metadata": {},
   "outputs": [
    {
     "name": "stdout",
     "output_type": "stream",
     "text": [
      "[46, 47, 47, 1, 58, 46, 43, 56, 43]\n",
      "hii there\n"
     ]
    }
   ],
   "source": [
    "stoi = { ch:i for i,ch in enumerate(chars) }\n",
    "itos = { i:ch for i,ch in enumerate(chars)}\n",
    "encode = lambda s: [stoi[c] for c in s]\n",
    "decode = lambda l: ''.join([itos[i] for i in l])\n",
    "\n",
    "print(encode(\"hii there\"))\n",
    "print(decode(encode(\"hii there\")))"
   ]
  },
  {
   "cell_type": "code",
   "execution_count": 11,
   "metadata": {},
   "outputs": [
    {
     "name": "stdout",
     "output_type": "stream",
     "text": [
      "torch.Size([1115394]) torch.int64\n",
      "tensor([18, 47, 56, 57, 58,  1, 15, 47, 58, 47, 64, 43, 52, 10,  0, 14, 43, 44,\n",
      "        53, 56, 43,  1, 61, 43,  1, 54, 56, 53, 41, 43, 43, 42,  1, 39, 52, 63,\n",
      "         1, 44, 59, 56, 58, 46, 43, 56,  6,  1, 46, 43, 39, 56,  1, 51, 43,  1,\n",
      "        57, 54, 43, 39, 49,  8,  0,  0, 13, 50, 50, 10,  0, 31, 54, 43, 39, 49,\n",
      "         6,  1, 57, 54, 43, 39, 49,  8,  0,  0, 18, 47, 56, 57, 58,  1, 15, 47,\n",
      "        58, 47, 64, 43, 52, 10,  0, 37, 53, 59])\n"
     ]
    }
   ],
   "source": [
    "import torch\n",
    "data = torch.tensor(encode(text), dtype=torch.long)\n",
    "print(data.shape, data.dtype)\n",
    "print(data[:100])"
   ]
  },
  {
   "cell_type": "code",
   "execution_count": 12,
   "metadata": {},
   "outputs": [],
   "source": [
    "n = int(0.9*len(data))\n",
    "train_data = data[:n]\n",
    "val_data = data[n:]"
   ]
  },
  {
   "cell_type": "code",
   "execution_count": 13,
   "metadata": {},
   "outputs": [
    {
     "data": {
      "text/plain": [
       "tensor([18, 47, 56, 57, 58,  1, 15, 47, 58])"
      ]
     },
     "execution_count": 13,
     "metadata": {},
     "output_type": "execute_result"
    }
   ],
   "source": [
    "block_size = 8\n",
    "train_data[:block_size+1]"
   ]
  },
  {
   "cell_type": "code",
   "execution_count": 14,
   "metadata": {},
   "outputs": [
    {
     "name": "stdout",
     "output_type": "stream",
     "text": [
      "when inpu is tensor([18]) the target: 47\n",
      "when inpu is tensor([18, 47]) the target: 56\n",
      "when inpu is tensor([18, 47, 56]) the target: 57\n",
      "when inpu is tensor([18, 47, 56, 57]) the target: 58\n",
      "when inpu is tensor([18, 47, 56, 57, 58]) the target: 1\n",
      "when inpu is tensor([18, 47, 56, 57, 58,  1]) the target: 15\n",
      "when inpu is tensor([18, 47, 56, 57, 58,  1, 15]) the target: 47\n",
      "when inpu is tensor([18, 47, 56, 57, 58,  1, 15, 47]) the target: 58\n"
     ]
    }
   ],
   "source": [
    "x = train_data[:block_size]\n",
    "y = train_data[1:block_size+1]\n",
    "for t in range(block_size):\n",
    "    context = x[:t+1]\n",
    "    target = y[t]\n",
    "    print(f\"when inpu is {context} the target: {target}\")"
   ]
  },
  {
   "cell_type": "code",
   "execution_count": 19,
   "metadata": {},
   "outputs": [
    {
     "name": "stdout",
     "output_type": "stream",
     "text": [
      "inputs:\n",
      "torch.Size([4, 8])\n",
      "tensor([[24, 43, 58,  5, 57,  1, 46, 43],\n",
      "        [44, 53, 56,  1, 58, 46, 39, 58],\n",
      "        [52, 58,  1, 58, 46, 39, 58,  1],\n",
      "        [25, 17, 27, 10,  0, 21,  1, 54]])\n",
      "targets: \n",
      "torch.Size([4, 8])\n",
      "tensor([[43, 58,  5, 57,  1, 46, 43, 39],\n",
      "        [53, 56,  1, 58, 46, 39, 58,  1],\n",
      "        [58,  1, 58, 46, 39, 58,  1, 46],\n",
      "        [17, 27, 10,  0, 21,  1, 54, 39]])\n",
      "-----\n",
      "when input is [24] the target is 43\n",
      "when input is [24, 43] the target is 58\n",
      "when input is [24, 43, 58] the target is 5\n",
      "when input is [24, 43, 58, 5] the target is 57\n",
      "when input is [24, 43, 58, 5, 57] the target is 1\n",
      "when input is [24, 43, 58, 5, 57, 1] the target is 46\n",
      "when input is [24, 43, 58, 5, 57, 1, 46] the target is 43\n",
      "when input is [24, 43, 58, 5, 57, 1, 46, 43] the target is 39\n",
      "when input is [44] the target is 53\n",
      "when input is [44, 53] the target is 56\n",
      "when input is [44, 53, 56] the target is 1\n",
      "when input is [44, 53, 56, 1] the target is 58\n",
      "when input is [44, 53, 56, 1, 58] the target is 46\n",
      "when input is [44, 53, 56, 1, 58, 46] the target is 39\n",
      "when input is [44, 53, 56, 1, 58, 46, 39] the target is 58\n",
      "when input is [44, 53, 56, 1, 58, 46, 39, 58] the target is 1\n",
      "when input is [52] the target is 58\n",
      "when input is [52, 58] the target is 1\n",
      "when input is [52, 58, 1] the target is 58\n",
      "when input is [52, 58, 1, 58] the target is 46\n",
      "when input is [52, 58, 1, 58, 46] the target is 39\n",
      "when input is [52, 58, 1, 58, 46, 39] the target is 58\n",
      "when input is [52, 58, 1, 58, 46, 39, 58] the target is 1\n",
      "when input is [52, 58, 1, 58, 46, 39, 58, 1] the target is 46\n",
      "when input is [25] the target is 17\n",
      "when input is [25, 17] the target is 27\n",
      "when input is [25, 17, 27] the target is 10\n",
      "when input is [25, 17, 27, 10] the target is 0\n",
      "when input is [25, 17, 27, 10, 0] the target is 21\n",
      "when input is [25, 17, 27, 10, 0, 21] the target is 1\n",
      "when input is [25, 17, 27, 10, 0, 21, 1] the target is 54\n",
      "when input is [25, 17, 27, 10, 0, 21, 1, 54] the target is 39\n"
     ]
    }
   ],
   "source": [
    "torch.manual_seed(1337)\n",
    "batch_size = 4\n",
    "block_size = 8\n",
    "\n",
    "def get_batch(split):\n",
    "    data = train_data if split == 'train' else val_data\n",
    "    ix = torch.randint(len(data) - block_size, (batch_size,))\n",
    "    x = torch.stack([data[i:i+block_size] for i in ix])\n",
    "    y = torch.stack([data[i+1:i+block_size+1] for i in ix])\n",
    "    return x, y\n",
    "\n",
    "xb, yb = get_batch('train')\n",
    "print('inputs:' )\n",
    "print(xb.shape)\n",
    "print(xb)\n",
    "print('targets: ')\n",
    "print(yb.shape)\n",
    "print(yb)\n",
    "\n",
    "print('-----')\n",
    "\n",
    "for b in range(batch_size):\n",
    "    for t in range(block_size):\n",
    "        context = xb[b, :t+1]\n",
    "        target = yb[b, t]\n",
    "        print(f\"when input is {context.tolist()} the target is {target}\")"
   ]
  },
  {
   "cell_type": "code",
   "execution_count": 20,
   "metadata": {},
   "outputs": [
    {
     "name": "stdout",
     "output_type": "stream",
     "text": [
      "tensor([[24, 43, 58,  5, 57,  1, 46, 43],\n",
      "        [44, 53, 56,  1, 58, 46, 39, 58],\n",
      "        [52, 58,  1, 58, 46, 39, 58,  1],\n",
      "        [25, 17, 27, 10,  0, 21,  1, 54]])\n"
     ]
    }
   ],
   "source": [
    "print(xb)"
   ]
  },
  {
   "cell_type": "code",
   "execution_count": null,
   "metadata": {},
   "outputs": [],
   "source": []
  },
  {
   "cell_type": "code",
   "execution_count": 27,
   "metadata": {},
   "outputs": [],
   "source": [
    "import torch.nn as nn\n",
    "tensors = nn.Embedding(vocab_size,vocab_size)"
   ]
  },
  {
   "cell_type": "code",
   "execution_count": 48,
   "metadata": {},
   "outputs": [
    {
     "name": "stdout",
     "output_type": "stream",
     "text": [
      "shape of idx:  torch.Size([4, 8])\n",
      "shape of logits:  torch.Size([4, 8, 65])\n",
      "torch.Size([32, 65])\n",
      "tensor([[-1.5101, -0.0948,  1.0927,  ..., -0.6126, -0.6597,  0.7624],\n",
      "        [ 0.3323, -0.0872, -0.7470,  ..., -0.6716, -0.9572, -0.9594],\n",
      "        [ 0.2475, -0.6349, -1.2909,  ...,  1.3064, -0.2256, -1.8305],\n",
      "        ...,\n",
      "        [-2.1910, -0.7574,  1.9656,  ..., -0.3580,  0.8585, -0.6161],\n",
      "        [ 0.5978, -0.0514, -0.0646,  ..., -1.4649, -2.0555,  1.8275],\n",
      "        [-0.6787,  0.8662, -1.6433,  ...,  2.3671, -0.7775, -0.2586]],\n",
      "       grad_fn=<ViewBackward0>)\n",
      "torch.Size([])\n",
      "tensor(4.8786, grad_fn=<NllLossBackward0>)\n",
      "shape of idx:  torch.Size([1, 1])\n",
      "shape of logits:  torch.Size([1, 1, 65])\n",
      "shape of idx:  torch.Size([1, 2])\n",
      "shape of logits:  torch.Size([1, 2, 65])\n",
      "shape of idx:  torch.Size([1, 3])\n",
      "shape of logits:  torch.Size([1, 3, 65])\n",
      "shape of idx:  torch.Size([1, 4])\n",
      "shape of logits:  torch.Size([1, 4, 65])\n",
      "shape of idx:  torch.Size([1, 5])\n",
      "shape of logits:  torch.Size([1, 5, 65])\n",
      "shape of idx:  torch.Size([1, 6])\n",
      "shape of logits:  torch.Size([1, 6, 65])\n",
      "shape of idx:  torch.Size([1, 7])\n",
      "shape of logits:  torch.Size([1, 7, 65])\n",
      "shape of idx:  torch.Size([1, 8])\n",
      "shape of logits:  torch.Size([1, 8, 65])\n",
      "shape of idx:  torch.Size([1, 9])\n",
      "shape of logits:  torch.Size([1, 9, 65])\n",
      "shape of idx:  torch.Size([1, 10])\n",
      "shape of logits:  torch.Size([1, 10, 65])\n",
      "shape of idx:  torch.Size([1, 11])\n",
      "shape of logits:  torch.Size([1, 11, 65])\n",
      "shape of idx:  torch.Size([1, 12])\n",
      "shape of logits:  torch.Size([1, 12, 65])\n",
      "shape of idx:  torch.Size([1, 13])\n",
      "shape of logits:  torch.Size([1, 13, 65])\n",
      "shape of idx:  torch.Size([1, 14])\n",
      "shape of logits:  torch.Size([1, 14, 65])\n",
      "shape of idx:  torch.Size([1, 15])\n",
      "shape of logits:  torch.Size([1, 15, 65])\n",
      "shape of idx:  torch.Size([1, 16])\n",
      "shape of logits:  torch.Size([1, 16, 65])\n",
      "shape of idx:  torch.Size([1, 17])\n",
      "shape of logits:  torch.Size([1, 17, 65])\n",
      "shape of idx:  torch.Size([1, 18])\n",
      "shape of logits:  torch.Size([1, 18, 65])\n",
      "shape of idx:  torch.Size([1, 19])\n",
      "shape of logits:  torch.Size([1, 19, 65])\n",
      "shape of idx:  torch.Size([1, 20])\n",
      "shape of logits:  torch.Size([1, 20, 65])\n",
      "shape of idx:  torch.Size([1, 21])\n",
      "shape of logits:  torch.Size([1, 21, 65])\n",
      "shape of idx:  torch.Size([1, 22])\n",
      "shape of logits:  torch.Size([1, 22, 65])\n",
      "shape of idx:  torch.Size([1, 23])\n",
      "shape of logits:  torch.Size([1, 23, 65])\n",
      "shape of idx:  torch.Size([1, 24])\n",
      "shape of logits:  torch.Size([1, 24, 65])\n",
      "shape of idx:  torch.Size([1, 25])\n",
      "shape of logits:  torch.Size([1, 25, 65])\n",
      "shape of idx:  torch.Size([1, 26])\n",
      "shape of logits:  torch.Size([1, 26, 65])\n",
      "shape of idx:  torch.Size([1, 27])\n",
      "shape of logits:  torch.Size([1, 27, 65])\n",
      "shape of idx:  torch.Size([1, 28])\n",
      "shape of logits:  torch.Size([1, 28, 65])\n",
      "shape of idx:  torch.Size([1, 29])\n",
      "shape of logits:  torch.Size([1, 29, 65])\n",
      "shape of idx:  torch.Size([1, 30])\n",
      "shape of logits:  torch.Size([1, 30, 65])\n",
      "shape of idx:  torch.Size([1, 31])\n",
      "shape of logits:  torch.Size([1, 31, 65])\n",
      "shape of idx:  torch.Size([1, 32])\n",
      "shape of logits:  torch.Size([1, 32, 65])\n",
      "shape of idx:  torch.Size([1, 33])\n",
      "shape of logits:  torch.Size([1, 33, 65])\n",
      "shape of idx:  torch.Size([1, 34])\n",
      "shape of logits:  torch.Size([1, 34, 65])\n",
      "shape of idx:  torch.Size([1, 35])\n",
      "shape of logits:  torch.Size([1, 35, 65])\n",
      "shape of idx:  torch.Size([1, 36])\n",
      "shape of logits:  torch.Size([1, 36, 65])\n",
      "shape of idx:  torch.Size([1, 37])\n",
      "shape of logits:  torch.Size([1, 37, 65])\n",
      "shape of idx:  torch.Size([1, 38])\n",
      "shape of logits:  torch.Size([1, 38, 65])\n",
      "shape of idx:  torch.Size([1, 39])\n",
      "shape of logits:  torch.Size([1, 39, 65])\n",
      "shape of idx:  torch.Size([1, 40])\n",
      "shape of logits:  torch.Size([1, 40, 65])\n",
      "shape of idx:  torch.Size([1, 41])\n",
      "shape of logits:  torch.Size([1, 41, 65])\n",
      "shape of idx:  torch.Size([1, 42])\n",
      "shape of logits:  torch.Size([1, 42, 65])\n",
      "shape of idx:  torch.Size([1, 43])\n",
      "shape of logits:  torch.Size([1, 43, 65])\n",
      "shape of idx:  torch.Size([1, 44])\n",
      "shape of logits:  torch.Size([1, 44, 65])\n",
      "shape of idx:  torch.Size([1, 45])\n",
      "shape of logits:  torch.Size([1, 45, 65])\n",
      "shape of idx:  torch.Size([1, 46])\n",
      "shape of logits:  torch.Size([1, 46, 65])\n",
      "shape of idx:  torch.Size([1, 47])\n",
      "shape of logits:  torch.Size([1, 47, 65])\n",
      "shape of idx:  torch.Size([1, 48])\n",
      "shape of logits:  torch.Size([1, 48, 65])\n",
      "shape of idx:  torch.Size([1, 49])\n",
      "shape of logits:  torch.Size([1, 49, 65])\n",
      "shape of idx:  torch.Size([1, 50])\n",
      "shape of logits:  torch.Size([1, 50, 65])\n",
      "shape of idx:  torch.Size([1, 51])\n",
      "shape of logits:  torch.Size([1, 51, 65])\n",
      "shape of idx:  torch.Size([1, 52])\n",
      "shape of logits:  torch.Size([1, 52, 65])\n",
      "shape of idx:  torch.Size([1, 53])\n",
      "shape of logits:  torch.Size([1, 53, 65])\n",
      "shape of idx:  torch.Size([1, 54])\n",
      "shape of logits:  torch.Size([1, 54, 65])\n",
      "shape of idx:  torch.Size([1, 55])\n",
      "shape of logits:  torch.Size([1, 55, 65])\n",
      "shape of idx:  torch.Size([1, 56])\n",
      "shape of logits:  torch.Size([1, 56, 65])\n",
      "shape of idx:  torch.Size([1, 57])\n",
      "shape of logits:  torch.Size([1, 57, 65])\n",
      "shape of idx:  torch.Size([1, 58])\n",
      "shape of logits:  torch.Size([1, 58, 65])\n",
      "shape of idx:  torch.Size([1, 59])\n",
      "shape of logits:  torch.Size([1, 59, 65])\n",
      "shape of idx:  torch.Size([1, 60])\n",
      "shape of logits:  torch.Size([1, 60, 65])\n",
      "shape of idx:  torch.Size([1, 61])\n",
      "shape of logits:  torch.Size([1, 61, 65])\n",
      "shape of idx:  torch.Size([1, 62])\n",
      "shape of logits:  torch.Size([1, 62, 65])\n",
      "shape of idx:  torch.Size([1, 63])\n",
      "shape of logits:  torch.Size([1, 63, 65])\n",
      "shape of idx:  torch.Size([1, 64])\n",
      "shape of logits:  torch.Size([1, 64, 65])\n",
      "shape of idx:  torch.Size([1, 65])\n",
      "shape of logits:  torch.Size([1, 65, 65])\n",
      "shape of idx:  torch.Size([1, 66])\n",
      "shape of logits:  torch.Size([1, 66, 65])\n",
      "shape of idx:  torch.Size([1, 67])\n",
      "shape of logits:  torch.Size([1, 67, 65])\n",
      "shape of idx:  torch.Size([1, 68])\n",
      "shape of logits:  torch.Size([1, 68, 65])\n",
      "shape of idx:  torch.Size([1, 69])\n",
      "shape of logits:  torch.Size([1, 69, 65])\n",
      "shape of idx:  torch.Size([1, 70])\n",
      "shape of logits:  torch.Size([1, 70, 65])\n",
      "shape of idx:  torch.Size([1, 71])\n",
      "shape of logits:  torch.Size([1, 71, 65])\n",
      "shape of idx:  torch.Size([1, 72])\n",
      "shape of logits:  torch.Size([1, 72, 65])\n",
      "shape of idx:  torch.Size([1, 73])\n",
      "shape of logits:  torch.Size([1, 73, 65])\n",
      "shape of idx:  torch.Size([1, 74])\n",
      "shape of logits:  torch.Size([1, 74, 65])\n",
      "shape of idx:  torch.Size([1, 75])\n",
      "shape of logits:  torch.Size([1, 75, 65])\n",
      "shape of idx:  torch.Size([1, 76])\n",
      "shape of logits:  torch.Size([1, 76, 65])\n",
      "shape of idx:  torch.Size([1, 77])\n",
      "shape of logits:  torch.Size([1, 77, 65])\n",
      "shape of idx:  torch.Size([1, 78])\n",
      "shape of logits:  torch.Size([1, 78, 65])\n",
      "shape of idx:  torch.Size([1, 79])\n",
      "shape of logits:  torch.Size([1, 79, 65])\n",
      "shape of idx:  torch.Size([1, 80])\n",
      "shape of logits:  torch.Size([1, 80, 65])\n",
      "shape of idx:  torch.Size([1, 81])\n",
      "shape of logits:  torch.Size([1, 81, 65])\n",
      "shape of idx:  torch.Size([1, 82])\n",
      "shape of logits:  torch.Size([1, 82, 65])\n",
      "shape of idx:  torch.Size([1, 83])\n",
      "shape of logits:  torch.Size([1, 83, 65])\n",
      "shape of idx:  torch.Size([1, 84])\n",
      "shape of logits:  torch.Size([1, 84, 65])\n",
      "shape of idx:  torch.Size([1, 85])\n",
      "shape of logits:  torch.Size([1, 85, 65])\n",
      "shape of idx:  torch.Size([1, 86])\n",
      "shape of logits:  torch.Size([1, 86, 65])\n",
      "shape of idx:  torch.Size([1, 87])\n",
      "shape of logits:  torch.Size([1, 87, 65])\n",
      "shape of idx:  torch.Size([1, 88])\n",
      "shape of logits:  torch.Size([1, 88, 65])\n",
      "shape of idx:  torch.Size([1, 89])\n",
      "shape of logits:  torch.Size([1, 89, 65])\n",
      "shape of idx:  torch.Size([1, 90])\n",
      "shape of logits:  torch.Size([1, 90, 65])\n",
      "shape of idx:  torch.Size([1, 91])\n",
      "shape of logits:  torch.Size([1, 91, 65])\n",
      "shape of idx:  torch.Size([1, 92])\n",
      "shape of logits:  torch.Size([1, 92, 65])\n",
      "shape of idx:  torch.Size([1, 93])\n",
      "shape of logits:  torch.Size([1, 93, 65])\n",
      "shape of idx:  torch.Size([1, 94])\n",
      "shape of logits:  torch.Size([1, 94, 65])\n",
      "shape of idx:  torch.Size([1, 95])\n",
      "shape of logits:  torch.Size([1, 95, 65])\n",
      "shape of idx:  torch.Size([1, 96])\n",
      "shape of logits:  torch.Size([1, 96, 65])\n",
      "shape of idx:  torch.Size([1, 97])\n",
      "shape of logits:  torch.Size([1, 97, 65])\n",
      "shape of idx:  torch.Size([1, 98])\n",
      "shape of logits:  torch.Size([1, 98, 65])\n",
      "shape of idx:  torch.Size([1, 99])\n",
      "shape of logits:  torch.Size([1, 99, 65])\n",
      "shape of idx:  torch.Size([1, 100])\n",
      "shape of logits:  torch.Size([1, 100, 65])\n",
      "\n",
      "Sr?qP-QWktXoL&jLDJgOLVz'RIoDqHdhsV&vLLxatjscMpwLERSPyao.qfzs$Ys$zF-w,;eEkzxjgCKFChs!iWW.ObzDnxA Ms$3\n"
     ]
    }
   ],
   "source": [
    "import torch\n",
    "import torch.nn as nn\n",
    "from torch.nn import functional as F\n",
    "torch.manual_seed(1337)\n",
    "\n",
    "class BigramLanguageModel(nn.Module):\n",
    "\n",
    "    def __init__(self, vocab_size):\n",
    "        super().__init__()\n",
    "        self.token_embedding_table = nn.Embedding(vocab_size,vocab_size)\n",
    "\n",
    "    def forward(self, idx, targets=None):\n",
    "        # print(\"shape of idx: \", idx.shape)\n",
    "        # print(\"shape of targets: \", targets.shape)\n",
    "        # print(idx)\n",
    "        # print(targets)\n",
    "\n",
    "        logits = self.token_embedding_table(idx)\n",
    "        # print(\"shape of logits: \", logits.shape)\n",
    "\n",
    "        if targets is None:\n",
    "            loss = None\n",
    "        else:\n",
    "            B, T, C = logits.shape\n",
    "            logits = logits.view(B*T, C)\n",
    "            targets = targets.view(B*T)\n",
    "            loss = F.cross_entropy(logits, targets)\n",
    "        \n",
    "        return logits, loss\n",
    "    \n",
    "\n",
    "    def generate(self, idx, max_new_tokens):\n",
    "        for _ in range(max_new_tokens):\n",
    "            logits, loss = self(idx)\n",
    "            logits = logits[:, -1, :] # (B,C)\n",
    "            probs = F.softmax(logits, dim=-1) # (B,C)\n",
    "            idx_next = torch.multinomial(probs, num_samples=1) # (B,1)\n",
    "            idx = torch.cat((idx, idx_next), dim=1) #(B, T+1)\n",
    "        return idx\n",
    "\n",
    "\n",
    "\n",
    "    \n",
    "m = BigramLanguageModel(vocab_size)\n",
    "logits, loss = m(xb, yb)\n",
    "print(logits.shape)\n",
    "print(logits)\n",
    "print(loss.shape)\n",
    "print(loss)\n",
    "\n",
    "# idx = torch.zeros((1, 1), dtype=torch.long)\n",
    "print(decode(m.generate(idx = torch.zeros((1, 1), dtype=torch.long), max_new_tokens=100)[0].tolist()))\n"
   ]
  },
  {
   "cell_type": "markdown",
   "metadata": {},
   "source": []
  },
  {
   "cell_type": "code",
   "execution_count": null,
   "metadata": {},
   "outputs": [],
   "source": []
  }
 ],
 "metadata": {
  "kernelspec": {
   "display_name": "Python 3",
   "language": "python",
   "name": "python3"
  },
  "language_info": {
   "codemirror_mode": {
    "name": "ipython",
    "version": 3
   },
   "file_extension": ".py",
   "mimetype": "text/x-python",
   "name": "python",
   "nbconvert_exporter": "python",
   "pygments_lexer": "ipython3",
   "version": "3.10.8"
  },
  "orig_nbformat": 4
 },
 "nbformat": 4,
 "nbformat_minor": 2
}
